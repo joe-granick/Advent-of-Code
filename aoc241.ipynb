{
  "nbformat": 4,
  "nbformat_minor": 0,
  "metadata": {
    "colab": {
      "provenance": [],
      "authorship_tag": "ABX9TyO571T/wNg36M4Zl0cfkghe",
      "include_colab_link": true
    },
    "kernelspec": {
      "name": "python3",
      "display_name": "Python 3"
    },
    "language_info": {
      "name": "python"
    }
  },
  "cells": [
    {
      "cell_type": "markdown",
      "metadata": {
        "id": "view-in-github",
        "colab_type": "text"
      },
      "source": [
        "<a href=\"https://colab.research.google.com/github/joe-granick/Advent-of-Code/blob/main/aoc241.ipynb\" target=\"_parent\"><img src=\"https://colab.research.google.com/assets/colab-badge.svg\" alt=\"Open In Colab\"/></a>"
      ]
    },
    {
      "cell_type": "markdown",
      "source": [
        "--- Day 1: Historian Hysteria ---\n",
        "\n",
        "The Chief Historian is always present for the big Christmas sleigh launch, but nobody has seen him in months! Last anyone heard, he was visiting locations that are historically significant to the North Pole; a group of Senior Historians has asked you to accompany them as they check the places they think he was most likely to visit.\n",
        "\n",
        "As each location is checked, they will mark it on their list with a star. They figure the Chief Historian must be in one of the first fifty places they'll look, so in order to save Christmas, you need to help them get fifty stars on their list before Santa takes off on December 25th.\n",
        "\n",
        "Collect stars by solving puzzles. Two puzzles will be made available on each day in the Advent calendar; the second puzzle is unlocked when you complete the first. Each puzzle grants one star. Good luck!\n",
        "\n",
        "You haven't even left yet and the group of Elvish Senior Historians has already hit a problem: their list of locations to check is currently empty. Eventually, someone decides that the best place to check first would be the Chief Historian's office.\n",
        "\n",
        "Upon pouring into the office, everyone confirms that the Chief Historian is indeed nowhere to be found. Instead, the Elves discover an assortment of notes and lists of historically significant locations! This seems to be the planning the Chief Historian was doing before he left. Perhaps these notes can be used to determine which locations to search?\n",
        "\n",
        "Throughout the Chief's office, the historically significant locations are listed not by name but by a unique number called the location ID. To make sure they don't miss anything, The Historians split into two groups, each searching the office and trying to create their own complete list of location IDs.\n",
        "\n",
        "There's just one problem: by holding the two lists up side by side (your puzzle input), it quickly becomes clear that the lists aren't very similar. Maybe you can help The Historians reconcile their lists?\n",
        "\n",
        "For example:\n",
        "\n",
        "3   4\n",
        "4   3\n",
        "2   5\n",
        "1   3\n",
        "3   9\n",
        "3   3\n",
        "\n",
        "Maybe the lists are only off by a small amount! To find out, pair up the numbers and measure how far apart they are. Pair up the smallest number in the left list with the smallest number in the right list, then the second-smallest left number with the second-smallest right number, and so on.\n",
        "\n",
        "Within each pair, figure out how far apart the two numbers are; you'll need to add up all of those distances. For example, if you pair up a 3 from the left list with a 7 from the right list, the distance apart is 4; if you pair up a 9 with a 3, the distance apart is 6.\n",
        "\n",
        "In the example list above, the pairs and distances would be as follows:\n",
        "\n",
        "    The smallest number in the left list is 1, and the smallest number in the right list is 3. The distance between them is 2.\n",
        "    The second-smallest number in the left list is 2, and the second-smallest number in the right list is another 3. The distance between them is 1.\n",
        "    The third-smallest number in both lists is 3, so the distance between them is 0.\n",
        "    The next numbers to pair up are 3 and 4, a distance of 1.\n",
        "    The fifth-smallest numbers in each list are 3 and 5, a distance of 2.\n",
        "    Finally, the largest number in the left list is 4, while the largest number in the right list is 9; these are a distance 5 apart.\n",
        "\n",
        "To find the total distance between the left list and the right list, add up the distances between all of the pairs you found. In the example above, this is 2 + 1 + 0 + 1 + 2 + 5, a total distance of 11!\n",
        "\n",
        "Your actual left and right lists contain many location IDs. What is the total distance between your lists?\n"
      ],
      "metadata": {
        "id": "7FX_LzGoTttW"
      }
    },
    {
      "cell_type": "markdown",
      "source": [
        "# sort based solution"
      ],
      "metadata": {
        "id": "gja2d3wYFXUv"
      }
    },
    {
      "cell_type": "markdown",
      "source": [
        "## part 1"
      ],
      "metadata": {
        "id": "rDNehCdKLpa4"
      }
    },
    {
      "cell_type": "code",
      "source": [
        "a,b=[],[]"
      ],
      "metadata": {
        "id": "RF0069h4HVA9"
      },
      "execution_count": null,
      "outputs": []
    },
    {
      "cell_type": "code",
      "execution_count": null,
      "metadata": {
        "id": "b0ZwS1tPO2Wm"
      },
      "outputs": [],
      "source": [
        "with open('input_day_1.txt', 'r') as file:\n",
        "    # Read lines and split them into columns\n",
        "    for line in file:\n",
        "      a.append(int(line.split()[0].strip()))\n",
        "      b.append(int(line.split()[1].strip()))"
      ]
    },
    {
      "cell_type": "code",
      "source": [
        "a.sort()\n",
        "b.sort()"
      ],
      "metadata": {
        "id": "Vv5zlhEQHTGO"
      },
      "execution_count": null,
      "outputs": []
    },
    {
      "cell_type": "code",
      "source": [
        "total=0\n",
        "for i in range(len(a)):\n",
        "  total+=(abs(a[i]-b[i]))"
      ],
      "metadata": {
        "id": "Jt09kVLovhhi"
      },
      "execution_count": null,
      "outputs": []
    },
    {
      "cell_type": "code",
      "source": [
        "print(total)"
      ],
      "metadata": {
        "colab": {
          "base_uri": "https://localhost:8080/"
        },
        "id": "DmKSQb6dHcDa",
        "outputId": "45b7707e-6acb-4caa-b935-c50cf296ea16"
      },
      "execution_count": null,
      "outputs": [
        {
          "output_type": "stream",
          "name": "stdout",
          "text": [
            "2344935\n"
          ]
        }
      ]
    },
    {
      "cell_type": "markdown",
      "source": [
        "## part 2"
      ],
      "metadata": {
        "id": "N-6AgEI6LsdD"
      }
    },
    {
      "cell_type": "markdown",
      "source": [
        "### binary search"
      ],
      "metadata": {
        "id": "882hy71ULu-K"
      }
    },
    {
      "cell_type": "code",
      "source": [
        "def bin_search(term, min_index, max_index, search_vector):\n",
        ""
      ],
      "metadata": {
        "id": "3DCqz_tGLyIM"
      },
      "execution_count": null,
      "outputs": []
    },
    {
      "cell_type": "markdown",
      "source": [
        "## randomized sort"
      ],
      "metadata": {
        "id": "1_8KGnh2FyV1"
      }
    },
    {
      "cell_type": "code",
      "source": [],
      "metadata": {
        "id": "agLPkMzLF9ay"
      },
      "execution_count": null,
      "outputs": []
    },
    {
      "cell_type": "markdown",
      "source": [
        "## linear sort"
      ],
      "metadata": {
        "id": "ZOmPP7P4F6fs"
      }
    },
    {
      "cell_type": "code",
      "source": [],
      "metadata": {
        "id": "NMie9mg6F8s6"
      },
      "execution_count": null,
      "outputs": []
    },
    {
      "cell_type": "markdown",
      "source": [
        "# BST based solution"
      ],
      "metadata": {
        "id": "759zHjNrFfi-"
      }
    },
    {
      "cell_type": "code",
      "source": [],
      "metadata": {
        "id": "XfS04F8GFiSx"
      },
      "execution_count": null,
      "outputs": []
    },
    {
      "cell_type": "markdown",
      "source": [
        "# Heap based solution"
      ],
      "metadata": {
        "id": "T_Y1y439Fr7j"
      }
    },
    {
      "cell_type": "code",
      "source": [],
      "metadata": {
        "id": "XDmRm498GBhs"
      },
      "execution_count": null,
      "outputs": []
    },
    {
      "cell_type": "markdown",
      "source": [
        "# Other solutions"
      ],
      "metadata": {
        "id": "21_nTt1EFjFQ"
      }
    },
    {
      "cell_type": "markdown",
      "source": [
        "Is there any faster way to rank"
      ],
      "metadata": {
        "id": "1xkTgzaaFmU0"
      }
    },
    {
      "cell_type": "code",
      "source": [],
      "metadata": {
        "id": "DUVT2RBSGCM_"
      },
      "execution_count": null,
      "outputs": []
    }
  ]
}