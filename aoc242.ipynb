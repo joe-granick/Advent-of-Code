{
  "nbformat": 4,
  "nbformat_minor": 0,
  "metadata": {
    "colab": {
      "provenance": [],
      "collapsed_sections": [
        "1_8KGnh2FyV1",
        "ZOmPP7P4F6fs",
        "759zHjNrFfi-",
        "T_Y1y439Fr7j",
        "21_nTt1EFjFQ"
      ],
      "authorship_tag": "ABX9TyNIRESFoM86RW5ppfsxCVXU",
      "include_colab_link": true
    },
    "kernelspec": {
      "name": "python3",
      "display_name": "Python 3"
    },
    "language_info": {
      "name": "python"
    }
  },
  "cells": [
    {
      "cell_type": "markdown",
      "metadata": {
        "id": "view-in-github",
        "colab_type": "text"
      },
      "source": [
        "<a href=\"https://colab.research.google.com/github/joe-granick/Advent-of-Code/blob/main/aoc242.ipynb\" target=\"_parent\"><img src=\"https://colab.research.google.com/assets/colab-badge.svg\" alt=\"Open In Colab\"/></a>"
      ]
    },
    {
      "cell_type": "markdown",
      "source": [
        "--- Day 2: Red-Nosed Reports ---\n",
        "\n",
        "Fortunately, the first location The Historians want to search isn't a long walk from the Chief Historian's office.\n",
        "\n",
        "While the Red-Nosed Reindeer nuclear fusion/fission plant appears to contain no sign of the Chief Historian, the engineers there run up to you as soon as they see you. Apparently, they still talk about the time Rudolph was saved through molecular synthesis from a single electron.\n",
        "\n",
        "They're quick to add that - since you're already here - they'd really appreciate your help analyzing some unusual data from the Red-Nosed reactor. You turn to check if The Historians are waiting for you, but they seem to have already divided into groups that are currently searching every corner of the facility. You offer to help with the unusual data.\n",
        "\n",
        "The unusual data (your puzzle input) consists of many reports, one report per line. Each report is a list of numbers called levels that are separated by spaces. For example:\n",
        "```\n",
        "7 6 4 2 1\n",
        "1 2 7 8 9\n",
        "9 7 6 2 1\n",
        "1 3 2 4 5\n",
        "8 6 4 4 1\n",
        "1 3 6 7 9\n",
        "```\n",
        "his example data contains six reports each containing five levels.\n",
        "\n",
        "The engineers are trying to figure out which reports are safe. The Red-Nosed reactor safety systems can only tolerate levels that are either gradually increasing or gradually decreasing. So, a report only counts as safe if both of the following are true:\n",
        "\n",
        "    The levels are either all increasing or all decreasing.\n",
        "    Any two adjacent levels differ by at least one and at most three.\n",
        "\n",
        "In the example above, the reports can be found safe or unsafe by checking those rules:\n",
        "\n",
        "    7 6 4 2 1: Safe because the levels are all decreasing by 1 or 2.\n",
        "    1 2 7 8 9: Unsafe because 2 7 is an increase of 5.\n",
        "    9 7 6 2 1: Unsafe because 6 2 is a decrease of 4.\n",
        "    1 3 2 4 5: Unsafe because 1 3 is increasing but 3 2 is decreasing.\n",
        "    8 6 4 4 1: Unsafe because 4 4 is neither an increase or a decrease.\n",
        "    1 3 6 7 9: Safe because the levels are all increasing by 1, 2, or 3.\n",
        "\n",
        "So, in this example, 2 reports are safe.\n",
        "\n",
        "Analyze the unusual data from the engineers. How many reports are safe?\n"
      ],
      "metadata": {
        "id": "7FX_LzGoTttW"
      }
    },
    {
      "cell_type": "markdown",
      "source": [
        "## part 1"
      ],
      "metadata": {
        "id": "rDNehCdKLpa4"
      }
    },
    {
      "cell_type": "code",
      "source": [
        "a,b=[],[]"
      ],
      "metadata": {
        "id": "RF0069h4HVA9"
      },
      "execution_count": null,
      "outputs": []
    },
    {
      "cell_type": "code",
      "execution_count": 19,
      "metadata": {
        "id": "b0ZwS1tPO2Wm",
        "colab": {
          "base_uri": "https://localhost:8080/"
        },
        "outputId": "323a271f-0f12-4305-d141-a474024e921f"
      },
      "outputs": [
        {
          "output_type": "stream",
          "name": "stdout",
          "text": [
            "6   7   0\n",
            "4   6   0\n",
            "2   4   0\n",
            "1   2   0\n",
            "2   1   1\n",
            "7   9   1\n",
            "6   7   1\n",
            "3   1   1\n",
            "2   3   1\n",
            "4   2   1\n",
            "5   4   1\n",
            "6   8   2\n",
            "4   6   2\n",
            "3   1   2\n",
            "6   3   2\n",
            "7   6   2\n",
            "9   7   2\n",
            "5\n",
            "3\n"
          ]
        }
      ],
      "source": [
        "with open('day2_test.txt', 'r') as file:\n",
        "    # Read lines and split into elements of array\n",
        "    sum = 0\n",
        "    for line in file:\n",
        "      i=0\n",
        "      count=0\n",
        "      for num in line.split():\n",
        "        n=int(num)\n",
        "        #print(n)\n",
        "        if i==0:\n",
        "          sign=n/abs(n)\n",
        "          prev=n\n",
        "        else:\n",
        "          if sign!=n/abs(n):break\n",
        "          if abs(n - prev)>3 or abs(n-prev)==0:break\n",
        "          print(n, \" \", prev, \" \", sum)\n",
        "          prev=n\n",
        "        count+=1\n",
        "        i+=1\n",
        "      #print(len(line.strip().split()), \" \", count)\n",
        "      if count==len(line.strip().split()):sum+=1\n",
        "print(i)\n",
        "print(sum)\n",
        "\n",
        "\n",
        "      #for i in line.split():\n",
        "      #  print(int(i), \",\",end='')\n",
        "      #print()\n",
        "      #a.append(int(line.split()[0].strip()))\n",
        "      #b.append(int(line.split()[1].strip()))"
      ]
    },
    {
      "cell_type": "markdown",
      "source": [
        "## part 2"
      ],
      "metadata": {
        "id": "N-6AgEI6LsdD"
      }
    }
  ]
}